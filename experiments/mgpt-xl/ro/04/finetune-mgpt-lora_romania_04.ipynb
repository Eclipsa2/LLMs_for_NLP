{
 "cells": [
  {
   "cell_type": "code",
   "execution_count": 1,
   "metadata": {
    "_cell_guid": "4f12dd70-797e-43df-8161-340448776bfb",
    "_uuid": "b624d53b-10f3-4dd7-b364-73c4c6f65782",
    "collapsed": false,
    "jupyter": {
     "outputs_hidden": false
    }
   },
   "outputs": [],
   "source": [
    "from transformers import AutoModelForCausalLM, AutoTokenizer\n",
    "import torch\n",
    "\n",
    "model_name = \"ai-forever/mGPT\"\n",
    "tokenizer = AutoTokenizer.from_pretrained(model_name)\n",
    "model = AutoModelForCausalLM.from_pretrained(model_name, torch_dtype=torch.float16, device_map=\"auto\")"
   ]
  },
  {
   "cell_type": "code",
   "execution_count": 2,
   "metadata": {
    "_cell_guid": "a6670cca-14ba-4a5e-b9af-42541c778bf8",
    "_uuid": "5781ca93-dcb9-439b-915e-dc1dd1d4d33c",
    "collapsed": false,
    "jupyter": {
     "outputs_hidden": false
    }
   },
   "outputs": [
    {
     "name": "stdout",
     "output_type": "stream",
     "text": [
      "trainable params: 4,325,376 || all params: 1,421,922,304 || trainable%: 0.3042\n"
     ]
    }
   ],
   "source": [
    "from peft import get_peft_model, LoraConfig, TaskType\n",
    "\n",
    "lora_config = LoraConfig(\n",
    "    r=8,\n",
    "    lora_alpha=32,\n",
    "    target_modules=[\"c_attn\", \"c_proj\"], \n",
    "    lora_dropout=0.1,\n",
    "    bias=\"none\",\n",
    "    task_type=TaskType.CAUSAL_LM,\n",
    "    fan_in_fan_out=True,\n",
    ")\n",
    "\n",
    "model = get_peft_model(model, lora_config)\n",
    "model.print_trainable_parameters()"
   ]
  },
  {
   "cell_type": "code",
   "execution_count": 3,
   "metadata": {
    "_cell_guid": "528f13f7-7afc-4648-af2f-a4bdd73db29f",
    "_uuid": "8388cc4b-0369-43a0-9805-aa0927128d51",
    "collapsed": false,
    "jupyter": {
     "outputs_hidden": false
    }
   },
   "outputs": [],
   "source": [
    "from datasets import load_dataset\n",
    "\n",
    "dataset = load_dataset(\"json\", data_files=\"romania_dataset.json\")\n",
    "dataset = dataset['train'].train_test_split(test_size=0.1, seed=42)\n",
    "\n",
    "def tokenize_function(examples):\n",
    "    texts = [f\"{title}\\n{content}\" for title, content in zip(examples[\"title\"], examples[\"text\"])]\n",
    "    \n",
    "    tokenized = tokenizer(\n",
    "        texts, \n",
    "        padding=\"max_length\", \n",
    "        truncation=True, \n",
    "        max_length=512,\n",
    "        return_tensors=\"pt\"\n",
    "    )\n",
    "\n",
    "    tokenized[\"labels\"] = tokenized[\"input_ids\"].clone()\n",
    "    tokenized[\"labels\"][tokenized[\"input_ids\"] == tokenizer.pad_token_id] = -100\n",
    "    \n",
    "    return tokenized\n",
    "\n",
    "tokenized_dataset = dataset.map(tokenize_function, batched=True, remove_columns=[\"title\", \"text\"])"
   ]
  },
  {
   "cell_type": "code",
   "execution_count": 4,
   "metadata": {
    "_cell_guid": "a1833bf5-abb6-43d0-92c7-5f4e679f266c",
    "_uuid": "8deb56f7-11fc-4998-bda2-3378a5f5345a",
    "collapsed": false,
    "jupyter": {
     "outputs_hidden": false
    }
   },
   "outputs": [],
   "source": [
    "from transformers import TrainingArguments, Trainer\n",
    "\n",
    "training_args = TrainingArguments(\n",
    "    output_dir=\"./mgpt-lora-finetuned_romania_04\",\n",
    "    per_device_train_batch_size=4,\n",
    "    num_train_epochs=4,\n",
    "    save_strategy=\"steps\",\n",
    "    save_steps=2500,\n",
    "    eval_strategy=\"steps\",\n",
    "    save_total_limit=1,\n",
    "    logging_steps=2500,\n",
    "    learning_rate=0.0001,\n",
    "    fp16=True,\n",
    "    report_to=\"none\",\n",
    "    label_names=['labels'],\n",
    "    load_best_model_at_end=True,\n",
    "    metric_for_best_model='eval_loss',\n",
    "    greater_is_better=False\n",
    ")"
   ]
  },
  {
   "cell_type": "code",
   "execution_count": 5,
   "metadata": {
    "_cell_guid": "6d4db7c6-be5f-4a45-99e1-42f7336830ef",
    "_uuid": "cadc1bbb-a36e-4ecd-a0e3-efe6ebdf82e3",
    "collapsed": false,
    "jupyter": {
     "outputs_hidden": false
    }
   },
   "outputs": [
    {
     "name": "stderr",
     "output_type": "stream",
     "text": [
      "Detected kernel version 5.4.0, which is below the recommended minimum of 5.5.0; this can cause the process to hang. It is recommended to upgrade the kernel to the minimum version or higher.\n",
      "`loss_type=None` was set in the config but it is unrecognised.Using the default loss: `ForCausalLMLoss`.\n"
     ]
    },
    {
     "data": {
      "text/html": [
       "\n",
       "    <div>\n",
       "      \n",
       "      <progress value='20736' max='20736' style='width:300px; height:20px; vertical-align: middle;'></progress>\n",
       "      [20736/20736 2:54:02, Epoch 4/4]\n",
       "    </div>\n",
       "    <table border=\"1\" class=\"dataframe\">\n",
       "  <thead>\n",
       " <tr style=\"text-align: left;\">\n",
       "      <th>Step</th>\n",
       "      <th>Training Loss</th>\n",
       "      <th>Validation Loss</th>\n",
       "    </tr>\n",
       "  </thead>\n",
       "  <tbody>\n",
       "    <tr>\n",
       "      <td>2500</td>\n",
       "      <td>1.669200</td>\n",
       "      <td>1.548174</td>\n",
       "    </tr>\n",
       "    <tr>\n",
       "      <td>5000</td>\n",
       "      <td>1.598200</td>\n",
       "      <td>1.533960</td>\n",
       "    </tr>\n",
       "    <tr>\n",
       "      <td>7500</td>\n",
       "      <td>1.577400</td>\n",
       "      <td>1.527619</td>\n",
       "    </tr>\n",
       "    <tr>\n",
       "      <td>10000</td>\n",
       "      <td>1.570400</td>\n",
       "      <td>1.519004</td>\n",
       "    </tr>\n",
       "    <tr>\n",
       "      <td>12500</td>\n",
       "      <td>1.549600</td>\n",
       "      <td>1.517801</td>\n",
       "    </tr>\n",
       "    <tr>\n",
       "      <td>15000</td>\n",
       "      <td>1.547000</td>\n",
       "      <td>1.514853</td>\n",
       "    </tr>\n",
       "    <tr>\n",
       "      <td>17500</td>\n",
       "      <td>1.535600</td>\n",
       "      <td>1.511870</td>\n",
       "    </tr>\n",
       "    <tr>\n",
       "      <td>20000</td>\n",
       "      <td>1.541500</td>\n",
       "      <td>1.513373</td>\n",
       "    </tr>\n",
       "  </tbody>\n",
       "</table><p>"
      ],
      "text/plain": [
       "<IPython.core.display.HTML object>"
      ]
     },
     "metadata": {},
     "output_type": "display_data"
    },
    {
     "data": {
      "text/plain": [
       "TrainOutput(global_step=20736, training_loss=1.5720080328576358, metrics={'train_runtime': 10443.5342, 'train_samples_per_second': 7.942, 'train_steps_per_second': 1.986, 'total_flos': 3.09058867298304e+17, 'train_loss': 1.5720080328576358, 'epoch': 4.0})"
      ]
     },
     "execution_count": 5,
     "metadata": {},
     "output_type": "execute_result"
    }
   ],
   "source": [
    "trainer = Trainer(\n",
    "    model=model,\n",
    "    args=training_args,\n",
    "    train_dataset=tokenized_dataset[\"train\"],\n",
    "    eval_dataset=tokenized_dataset[\"test\"],\n",
    ")\n",
    "\n",
    "trainer.train()"
   ]
  },
  {
   "cell_type": "code",
   "execution_count": 6,
   "metadata": {
    "_cell_guid": "900bb9b3-f584-47a4-8248-4f7a9cef10d5",
    "_uuid": "366491f6-8a98-48a1-b800-b28ad40d8d51",
    "collapsed": false,
    "jupyter": {
     "outputs_hidden": false
    }
   },
   "outputs": [],
   "source": [
    "model.save_pretrained(\"mgpt-lora-adapter_romania_04\")\n"
   ]
  },
  {
   "cell_type": "code",
   "execution_count": 7,
   "metadata": {},
   "outputs": [
    {
     "data": {
      "text/plain": [
       "('mgpt-lora-adapter_romania_04_tok/tokenizer_config.json',\n",
       " 'mgpt-lora-adapter_romania_04_tok/special_tokens_map.json',\n",
       " 'mgpt-lora-adapter_romania_04_tok/vocab.json',\n",
       " 'mgpt-lora-adapter_romania_04_tok/merges.txt',\n",
       " 'mgpt-lora-adapter_romania_04_tok/added_tokens.json',\n",
       " 'mgpt-lora-adapter_romania_04_tok/tokenizer.json')"
      ]
     },
     "execution_count": 7,
     "metadata": {},
     "output_type": "execute_result"
    }
   ],
   "source": [
    "tokenizer.save_pretrained(\"mgpt-lora-adapter_romania_04_tok\")"
   ]
  }
 ],
 "metadata": {
  "kaggle": {
   "accelerator": "nvidiaTeslaT4",
   "dataSources": [
    {
     "datasetId": 7507953,
     "sourceId": 11947840,
     "sourceType": "datasetVersion"
    }
   ],
   "dockerImageVersionId": 31041,
   "isGpuEnabled": true,
   "isInternetEnabled": true,
   "language": "python",
   "sourceType": "notebook"
  },
  "kernelspec": {
   "display_name": "Python3 (ipykernel)",
   "language": "python",
   "name": "python3"
  },
  "language_info": {
   "codemirror_mode": {
    "name": "ipython",
    "version": 3
   },
   "file_extension": ".py",
   "mimetype": "text/x-python",
   "name": "python",
   "nbconvert_exporter": "python",
   "pygments_lexer": "ipython3",
   "version": "3.10.12"
  }
 },
 "nbformat": 4,
 "nbformat_minor": 4
}
